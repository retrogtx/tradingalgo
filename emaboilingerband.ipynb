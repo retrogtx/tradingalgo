{
  "cells": [
    {
      "cell_type": "code",
      "execution_count": 1,
      "metadata": {
        "id": "SZXjY_gSU4Is"
      },
      "outputs": [
        {
          "ename": "ModuleNotFoundError",
          "evalue": "No module named 'apscheduler'",
          "output_type": "error",
          "traceback": [
            "\u001b[1;31m---------------------------------------------------------------------------\u001b[0m",
            "\u001b[1;31mModuleNotFoundError\u001b[0m                       Traceback (most recent call last)",
            "Cell \u001b[1;32mIn[1], line 3\u001b[0m\n\u001b[0;32m      1\u001b[0m \u001b[38;5;28;01mimport\u001b[39;00m \u001b[38;5;21;01mpandas\u001b[39;00m \u001b[38;5;28;01mas\u001b[39;00m \u001b[38;5;21;01mpd\u001b[39;00m\n\u001b[0;32m      2\u001b[0m \u001b[38;5;28;01mimport\u001b[39;00m \u001b[38;5;21;01mpandas_ta\u001b[39;00m \u001b[38;5;28;01mas\u001b[39;00m \u001b[38;5;21;01mta\u001b[39;00m\n\u001b[1;32m----> 3\u001b[0m \u001b[38;5;28;01mfrom\u001b[39;00m \u001b[38;5;21;01mapscheduler\u001b[39;00m\u001b[38;5;21;01m.\u001b[39;00m\u001b[38;5;21;01mschedulers\u001b[39;00m\u001b[38;5;21;01m.\u001b[39;00m\u001b[38;5;21;01mblocking\u001b[39;00m \u001b[38;5;28;01mimport\u001b[39;00m BlockingScheduler\n\u001b[0;32m      4\u001b[0m \u001b[38;5;28;01mfrom\u001b[39;00m \u001b[38;5;21;01moandapyV20\u001b[39;00m \u001b[38;5;28;01mimport\u001b[39;00m API\n\u001b[0;32m      5\u001b[0m \u001b[38;5;28;01mimport\u001b[39;00m \u001b[38;5;21;01moandapyV20\u001b[39;00m\u001b[38;5;21;01m.\u001b[39;00m\u001b[38;5;21;01mendpoints\u001b[39;00m\u001b[38;5;21;01m.\u001b[39;00m\u001b[38;5;21;01morders\u001b[39;00m \u001b[38;5;28;01mas\u001b[39;00m \u001b[38;5;21;01morders\u001b[39;00m\n",
            "\u001b[1;31mModuleNotFoundError\u001b[0m: No module named 'apscheduler'"
          ]
        }
      ],
      "source": [
        "import pandas as pd\n",
        "import pandas_ta as ta\n",
        "from apscheduler.schedulers.blocking import BlockingScheduler\n",
        "from oandapyV20 import API\n",
        "import oandapyV20.endpoints.orders as orders\n",
        "import oandapyV20.endpoints.trades as trades\n",
        "from oandapyV20.contrib.requests import MarketOrderRequest\n",
        "from oanda_candles import Pair, Gran, CandleClient\n",
        "from oandapyV20.contrib.requests import TakeProfitDetails, StopLossDetails"
      ]
    },
    {
      "cell_type": "code",
      "execution_count": null,
      "metadata": {
        "id": "WdgweJnsU4Iu"
      },
      "outputs": [],
      "source": [
        "def ema_signal(df, current_candle, backcandles):\n",
        "    df_slice = df.reset_index().copy()\n",
        "    # Get the range of candles to consider\n",
        "    start = max(0, current_candle - backcandles)\n",
        "    end = current_candle\n",
        "    relevant_rows = df_slice.iloc[start:end]\n",
        "\n",
        "    # Check if all EMA_fast values are below EMA_slow values\n",
        "    if all(relevant_rows[\"EMA_fast\"] < relevant_rows[\"EMA_slow\"]):\n",
        "        return 1\n",
        "    elif all(relevant_rows[\"EMA_fast\"] > relevant_rows[\"EMA_slow\"]):\n",
        "        return 2\n",
        "    else:\n",
        "        return 0"
      ]
    },
    {
      "cell_type": "code",
      "execution_count": null,
      "metadata": {
        "id": "f_Q1sWFIU4Iu"
      },
      "outputs": [],
      "source": [
        "def total_signal(df, current_candle, backcandles):\n",
        "    if (ema_signal(df, current_candle, backcandles)==2\n",
        "        and df.Close[current_candle]<=df['BBL_15_1.5'][current_candle]\n",
        "        #and df.RSI[current_candle]<60\n",
        "        ):\n",
        "            return 2\n",
        "    if (ema_signal(df, current_candle, backcandles)==1\n",
        "        and df.Close[current_candle]>=df['BBU_15_1.5'][current_candle]\n",
        "        #and df.RSI[current_candle]>40\n",
        "        ):\n",
        "\n",
        "            return 1\n",
        "    return 0"
      ]
    },
    {
      "cell_type": "code",
      "execution_count": null,
      "metadata": {
        "id": "IXi8BN_kU4Iv"
      },
      "outputs": [],
      "source": [
        "access_token=\"jfdkslfj\" #you need token here generated from OANDA account\n",
        "accountID=\"456dsa456\""
      ]
    },
    {
      "cell_type": "code",
      "execution_count": null,
      "metadata": {
        "id": "iiU3mzXwU4Iv",
        "outputId": "857a8564-4f44-4ea8-a7b1-f9bd46d37e2b"
      },
      "outputs": [
        {
          "name": "stdout",
          "output_type": "stream",
          "text": [
            "True\n",
            "<Candle: 2024-01-24 02:55 PM>\n",
            "True\n",
            "<Candle: 2024-01-24 03 PM>\n",
            "True\n",
            "<Candle: 2024-01-24 03:05 PM>\n"
          ]
        }
      ],
      "source": [
        "def get_candles(n):\n",
        "    client = CandleClient(access_token, real=False)\n",
        "    collector = client.get_collector(Pair.EUR_USD, Gran.M5)\n",
        "    candles = collector.grab(n)\n",
        "    return candles\n",
        "\n",
        "candles = get_candles(3)\n",
        "for candle in candles:\n",
        "    print(float(str(candle.bid.o))>1)\n",
        "    print(candle)\n"
      ]
    },
    {
      "cell_type": "code",
      "execution_count": null,
      "metadata": {
        "id": "MZEqDkW0U4Iw"
      },
      "outputs": [],
      "source": [
        "def count_opened_trades():\n",
        "    client = API(access_token=access_token)\n",
        "    r = trades.OpenTrades(accountID=accountID)\n",
        "    client.request(r)\n",
        "    return len(r.response['trades'])"
      ]
    },
    {
      "cell_type": "code",
      "execution_count": null,
      "metadata": {
        "id": "6S7BAQ-cU4Iw"
      },
      "outputs": [],
      "source": [
        "def get_candles_frame(n):\n",
        "    candles = get_candles(n)\n",
        "    dfstream = pd.DataFrame(columns=['Open','Close','High','Low'])\n",
        "\n",
        "    i=0\n",
        "    for candle in candles:\n",
        "        dfstream.loc[i, ['Open']] = float(str(candle.bid.o))\n",
        "        dfstream.loc[i, ['Close']] = float(str(candle.bid.c))\n",
        "        dfstream.loc[i, ['High']] = float(str(candle.bid.h))\n",
        "        dfstream.loc[i, ['Low']] = float(str(candle.bid.l))\n",
        "        i=i+1\n",
        "\n",
        "    dfstream['Open'] = dfstream['Open'].astype(float)\n",
        "    dfstream['Close'] = dfstream['Close'].astype(float)\n",
        "    dfstream['High'] = dfstream['High'].astype(float)\n",
        "    dfstream['Low'] = dfstream['Low'].astype(float)\n",
        "\n",
        "    dfstream[\"ATR\"] = ta.atr(dfstream.High, dfstream.Low, dfstream.Close, length=7)\n",
        "    dfstream[\"EMA_fast\"]=ta.ema(dfstream.Close, length=30)\n",
        "    dfstream[\"EMA_slow\"]=ta.ema(dfstream.Close, length=50)\n",
        "    dfstream['RSI']=ta.rsi(dfstream.Close, length=10)\n",
        "    my_bbands = ta.bbands(dfstream.Close, length=15, std=1.5)\n",
        "    dfstream=dfstream.join(my_bbands)\n",
        "\n",
        "    return dfstream"
      ]
    },
    {
      "cell_type": "code",
      "execution_count": null,
      "metadata": {
        "id": "BowmVJqGU4Iw"
      },
      "outputs": [],
      "source": [
        "import sys\n",
        "from datetime import datetime\n",
        "\n",
        "def trading_job():\n",
        "\n",
        "    dfstream = get_candles_frame(70)\n",
        "\n",
        "    signal = total_signal(dfstream, len(dfstream)-1, 7) # previous candle signal current candle still opened\n",
        "\n",
        "    slatr = 1.1*dfstream.ATR.iloc[-1]\n",
        "    TPSLRatio = 1.5\n",
        "    max_spread = 16e-5\n",
        "\n",
        "    candle = get_candles(1)[-1]\n",
        "    candle_open_bid = float(str(candle.bid.o))\n",
        "    candle_open_ask = float(str(candle.ask.o))\n",
        "    spread = candle_open_ask-candle_open_bid\n",
        "\n",
        "    SLBuy = candle_open_bid-slatr-spread\n",
        "    SLSell = candle_open_ask+slatr+spread\n",
        "\n",
        "    TPBuy = candle_open_ask+slatr*TPSLRatio+spread\n",
        "    TPSell = candle_open_bid-slatr*TPSLRatio-spread\n",
        "\n",
        "    client = API(access_token=access_token)\n",
        "    #Sell\n",
        "    if signal == 1 and count_opened_trades() == 0 and spread<max_spread:\n",
        "        mo = MarketOrderRequest(instrument=\"EUR_USD\", units=-3000, takeProfitOnFill=TakeProfitDetails(price=TPSell).data, stopLossOnFill=StopLossDetails(price=SLSell).data)\n",
        "        r = orders.OrderCreate(accountID, data=mo.data)\n",
        "        rv = client.request(r)\n",
        "        print(rv)\n",
        "    #Buy\n",
        "    elif signal == 2 and count_opened_trades() == 0 and spread<max_spread:\n",
        "        mo = MarketOrderRequest(instrument=\"EUR_USD\", units=3000, takeProfitOnFill=TakeProfitDetails(price=TPBuy).data, stopLossOnFill=StopLossDetails(price=SLBuy).data)\n",
        "        r = orders.OrderCreate(accountID, data=mo.data)\n",
        "        rv = client.request(r)\n",
        "        print(rv)"
      ]
    },
    {
      "cell_type": "code",
      "execution_count": null,
      "metadata": {
        "id": "Gek-UlkLU4Ix",
        "outputId": "c445c043-541c-4412-c570-e1758b1ae2c9"
      },
      "outputs": [
        {
          "name": "stderr",
          "output_type": "stream",
          "text": [
            "Job \"trading_job (trigger: cron[day_of_week='mon-fri', hour='0-23', minute='1,6,11,16,21,26,31,36,41,46,51,56'], next run at: 2024-01-24 09:16:00 CST)\" raised an exception\n",
            "Traceback (most recent call last):\n",
            "  File \"c:\\CodeLab\\Python\\Lib\\site-packages\\apscheduler\\executors\\base.py\", line 125, in run_job\n",
            "    retval = job.func(*job.args, **job.kwargs)\n",
            "             ^^^^^^^^^^^^^^^^^^^^^^^^^^^^^^^^^\n",
            "  File \"C:\\Users\\710177\\AppData\\Local\\Temp\\ipykernel_11920\\80317498.py\", line 25, in trading_job\n",
            "    logging.info(\"{0} {1} {2} {3} {4} {5} {6} {7} {8} {9} {10} {11} {12} {13} {14}\".format(\n",
            "    ^^^^^^^\n",
            "NameError: name 'logging' is not defined\n"
          ]
        }
      ],
      "source": [
        "scheduler = BlockingScheduler()\n",
        "scheduler.add_job(trading_job, 'cron', day_of_week='mon-fri', hour='00-23', minute='1, 6, 11, 16, 21, 26, 31, 36, 41, 46, 51, 56',\n",
        "                  start_date='2023-12-08 12:00:00', timezone='America/Chicago')\n",
        "scheduler.start()"
      ]
    }
  ],
  "metadata": {
    "colab": {
      "provenance": []
    },
    "kernelspec": {
      "display_name": "Python 3.10.8 64-bit",
      "language": "python",
      "name": "python3"
    },
    "language_info": {
      "codemirror_mode": {
        "name": "ipython",
        "version": 3
      },
      "file_extension": ".py",
      "mimetype": "text/x-python",
      "name": "python",
      "nbconvert_exporter": "python",
      "pygments_lexer": "ipython3",
      "version": "3.10.0"
    },
    "vscode": {
      "interpreter": {
        "hash": "c0ff92a541b5eb8a0f75470c34280cf0dea79e8b819847822bd36e33345fddf3"
      }
    }
  },
  "nbformat": 4,
  "nbformat_minor": 0
}
