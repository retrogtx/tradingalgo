{
 "cells": [
  {
   "cell_type": "code",
   "execution_count": 12,
   "metadata": {},
   "outputs": [
    {
     "name": "stdout",
     "output_type": "stream",
     "text": [
      "                     signal\n",
      "datetime                   \n",
      "2024-01-08 09:15:00     0.0\n",
      "2024-01-08 09:20:00     0.0\n",
      "2024-01-09 09:15:00     0.0\n",
      "2024-01-09 09:20:00     0.0\n",
      "2024-01-10 09:15:00     0.0\n",
      "...                     ...\n",
      "2024-03-20 09:20:00     0.0\n",
      "2024-03-21 09:15:00     0.0\n",
      "2024-03-21 09:20:00     0.0\n",
      "2024-03-22 09:15:00     0.0\n",
      "2024-03-22 09:20:00     0.0\n",
      "\n",
      "[108 rows x 1 columns]\n"
     ]
    }
   ],
   "source": [
    "import pandas as pd\n",
    "\n",
    "\n",
    "def inside_candle_breakout(df):\n",
    "    # Create a new DataFrame to store the strategy signals\n",
    "    signals = pd.DataFrame(index=df.index)\n",
    "    signals[\"signal\"] = 0.0\n",
    "\n",
    "    # Create a column for the high of the previous candle\n",
    "    df[\"prev_high\"] = df[\"high\"].shift(1)\n",
    "\n",
    "    # Create a column for the low of the previous candle\n",
    "    df[\"prev_low\"] = df[\"low\"].shift(1)\n",
    "\n",
    "    # Create a column to identify inside candles\n",
    "    df[\"inside_candle\"] = (df[\"high\"] < df[\"prev_high\"]) & (df[\"low\"] > df[\"prev_low\"])\n",
    "\n",
    "    # Create a column to identify breakout candles\n",
    "    df[\"breakout_candle\"] = (\n",
    "        (df[\"high\"] > df[\"prev_high\"]) & df[\"inside_candle\"].shift(1)\n",
    "    ) | ((df[\"low\"] < df[\"prev_low\"]) & df[\"inside_candle\"].shift(1))\n",
    "\n",
    "    # Generate signals\n",
    "    signals[\"signal\"][df[\"breakout_candle\"]] = 1.0\n",
    "\n",
    "    # Filter signals to only include the first 5 minutes of each day\n",
    "    signals = signals.between_time(\"9:15\", \"9:20\")\n",
    "\n",
    "    return signals\n",
    "\n",
    "\n",
    "# Read the CSV file into a DataFrame\n",
    "df = pd.read_csv(\"nifty50.csv\")\n",
    "\n",
    "# Convert the 'datetime' column to datetime and set it as the index\n",
    "df[\"datetime\"] = pd.to_datetime(df[\"datetime\"])\n",
    "df = df.set_index(\"datetime\")\n",
    "\n",
    "# Apply the inside candle breakout strategy\n",
    "signals = inside_candle_breakout(df)\n",
    "\n",
    "print(signals)"
   ]
  },
  {
   "cell_type": "code",
   "execution_count": null,
   "metadata": {},
   "outputs": [],
   "source": []
  }
 ],
 "metadata": {
  "kernelspec": {
   "display_name": "Python 3",
   "language": "python",
   "name": "python3"
  },
  "language_info": {
   "codemirror_mode": {
    "name": "ipython",
    "version": 3
   },
   "file_extension": ".py",
   "mimetype": "text/x-python",
   "name": "python",
   "nbconvert_exporter": "python",
   "pygments_lexer": "ipython3",
   "version": "3.10.0"
  }
 },
 "nbformat": 4,
 "nbformat_minor": 2
}
