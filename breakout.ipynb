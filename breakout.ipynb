{
  "cells": [
    {
      "cell_type": "code",
      "execution_count": 1,
      "metadata": {
        "id": "vC-TzJyMLiEA"
      },
      "outputs": [],
      "source": [
        "import pandas as pd\n",
        "import pandas_ta as ta\n",
        "import pandas as pd\n",
        "import numpy as np\n",
        "import plotly.graph_objects as go\n",
        "from scipy import stats\n",
        "\n",
        "df = pd.read_csv(\"nifty50.csv\")\n",
        "df=df[df['volume']!=0]\n",
        "df.reset_index(drop=True, inplace=True)\n",
        "\n",
        "df['EMA'] = ta.ema(df.close, length=150)\n",
        "df.tail()\n",
        "\n",
        "df=df[0:10000]"
      ]
    },
    {
      "cell_type": "code",
      "execution_count": 2,
      "metadata": {
        "id": "6nAjN_DLLiEC"
      },
      "outputs": [],
      "source": [
        "EMAsignal = [0]*len(df)\n",
        "backcandles = 15\n",
        "\n",
        "for row in range(backcandles, len(df)):\n",
        "    upt = 1\n",
        "    dnt = 1\n",
        "    for i in range(row-backcandles, row+1):\n",
        "        if max(df.open[i], df.close[i])>=df.EMA[i]:\n",
        "            dnt=0\n",
        "        if min(df.open[i], df.close[i])<=df.EMA[i]:\n",
        "            upt=0\n",
        "    if upt==1 and dnt==1:\n",
        "        EMAsignal[row]=3\n",
        "    elif upt==1:\n",
        "        EMAsignal[row]=2\n",
        "    elif dnt==1:\n",
        "        EMAsignal[row]=1\n",
        "\n",
        "df['EMASignal'] = EMAsignal"
      ]
    },
    {
      "cell_type": "code",
      "execution_count": 3,
      "metadata": {
        "id": "Qvw0nfDQLiEC"
      },
      "outputs": [],
      "source": [
        "def isPivot(candle, window):\n",
        "    \"\"\"\n",
        "    function that detects if a candle is a pivot/fractal point\n",
        "    args: candle index, window before and after candle to test if pivot\n",
        "    returns: 1 if pivot high, 2 if pivot low, 3 if both and 0 default\n",
        "    \"\"\"\n",
        "    if candle-window < 0 or candle+window >= len(df):\n",
        "        return 0\n",
        "\n",
        "    pivotHigh = 1\n",
        "    pivotLow = 2\n",
        "    for i in range(candle-window, candle+window+1):\n",
        "        if df.iloc[candle].low > df.iloc[i].low:\n",
        "            pivotLow=0\n",
        "        if df.iloc[candle].high < df.iloc[i].high:\n",
        "            pivotHigh=0\n",
        "    if (pivotHigh and pivotLow):\n",
        "        return 3\n",
        "    elif pivotHigh:\n",
        "        return pivotHigh\n",
        "    elif pivotLow:\n",
        "        return pivotLow\n",
        "    else:\n",
        "        return 0"
      ]
    },
    {
      "cell_type": "code",
      "execution_count": 4,
      "metadata": {
        "id": "WxsY4Ny0LiED"
      },
      "outputs": [],
      "source": [
        "window=5\n",
        "df['isPivot'] = df.apply(lambda x: isPivot(x.name,window), axis=1)"
      ]
    },
    {
      "cell_type": "code",
      "execution_count": 5,
      "metadata": {
        "id": "j634g7VWLiED"
      },
      "outputs": [],
      "source": [
        "def pointpos(x):\n",
        "    if x['isPivot']==2:\n",
        "        return x['low']-1e-3\n",
        "    elif x['isPivot']==1:\n",
        "        return x['high']+1e-3\n",
        "    else:\n",
        "        return np.nan\n",
        "df['pointpos'] = df.apply(lambda row: pointpos(row), axis=1)"
      ]
    },
    {
      "cell_type": "code",
      "execution_count": 6,
      "metadata": {
        "id": "-zqA0YQ3LiED",
        "outputId": "1992d326-db95-4a22-ab75-ab7c81fd1d4a"
      },
      "outputs": [
        {
          "data": {
            "application/vnd.plotly.v1+json": {
              "config": {
                "plotlyServerURL": "https://plot.ly"
              },
              "data": [
                {
                  "close": [
                    21682.65,
                    21686.8,
                    21698.35,
                    21697.65,
                    21695.15,
                    21705.55,
                    21692.15,
                    21699.35,
                    21695.25,
                    21684.8,
                    21690.4,
                    21703.4,
                    21703.9,
                    21705.55,
                    21701.9,
                    21704.85,
                    21704.05,
                    21708.8,
                    21710,
                    21715.25,
                    21713.65,
                    21718.45,
                    21706.34960938,
                    21699.35,
                    21710.7,
                    21705.1,
                    21700.8,
                    21701.45,
                    21695.6,
                    21691.65,
                    21678.05,
                    21686.4,
                    21663.4,
                    21655.4,
                    21609.25,
                    21604.3,
                    21559.35,
                    21591.7,
                    21588.05,
                    21555.25,
                    21564.55,
                    21579.25,
                    21576.45,
                    21563.55,
                    21559.45,
                    21542.05,
                    21530,
                    21545.15,
                    21551.95,
                    21553.45,
                    21530.9,
                    21478.2,
                    21529.35,
                    21524.35,
                    21558.6,
                    21549.05,
                    21549.55,
                    21540.15,
                    21519.4,
                    21524.15,
                    21541.85,
                    21568.3,
                    21535.8,
                    21534.7,
                    21551.5,
                    21555.7,
                    21529.8,
                    21516.4,
                    21529.75,
                    21525.6,
                    21526.75,
                    21526.55,
                    21542.25,
                    21536.25,
                    21547.55,
                    21541.9,
                    21534.15,
                    21549.45,
                    21549.15,
                    21541.85,
                    21544.7,
                    21536.85,
                    21525.15,
                    21522.2,
                    21522.65,
                    21515.1,
                    21516.85,
                    21515.5,
                    21524.95,
                    21527.65,
                    21503.5,
                    21497.35,
                    21503.65,
                    21496.65,
                    21499.8,
                    21509.15,
                    21510.3,
                    21503.35,
                    21498.05,
                    21495.85
                  ],
                  "high": [
                    21689.05,
                    21691,
                    21701.65,
                    21702.1,
                    21701.15,
                    21713.4,
                    21709.2,
                    21702.15,
                    21706.25,
                    21700.5,
                    21694.4,
                    21707.35,
                    21707.45,
                    21712.8,
                    21710.65,
                    21724.45,
                    21709.95,
                    21712.95,
                    21713.35,
                    21720.1,
                    21717.9,
                    21720.7,
                    21719.6,
                    21710.55,
                    21713.15,
                    21714.2,
                    21707.65,
                    21705,
                    21704.75,
                    21699.15,
                    21693.95,
                    21689.45,
                    21692.9,
                    21673.3,
                    21661.9,
                    21616.6,
                    21604.85,
                    21606.75,
                    21599,
                    21591.7,
                    21580.9,
                    21585,
                    21585.7,
                    21580.95,
                    21570.1,
                    21562.2,
                    21545.55,
                    21546.25,
                    21558.1,
                    21564.5,
                    21556.25,
                    21538.15,
                    21529.35,
                    21539.85,
                    21559.15,
                    21564.8,
                    21556,
                    21549.8,
                    21539.35,
                    21530.35,
                    21542.5,
                    21573.9,
                    21568.75,
                    21536.1,
                    21552.4,
                    21555.75,
                    21555.95,
                    21536.75,
                    21532.45,
                    21536.85,
                    21532.1,
                    21529,
                    21542.95,
                    21548.75,
                    21548.15,
                    21549.45,
                    21548.85,
                    21553,
                    21559.25,
                    21553.1,
                    21547.2,
                    21547.35,
                    21539.85,
                    21526.15,
                    21531.65,
                    21525.25,
                    21525.65,
                    21518.65,
                    21527.6,
                    21532.45,
                    21529.55,
                    21525.05,
                    21504.85,
                    21504,
                    21503.55,
                    21516.9,
                    21517.3,
                    21515.5,
                    21505.35,
                    21500.25
                  ],
                  "low": [
                    21676,
                    21679.2,
                    21687.55,
                    21693.6,
                    21692.55,
                    21694.3,
                    21692.15,
                    21690.1,
                    21691.25,
                    21684.8,
                    21683.55,
                    21688.25,
                    21694.65,
                    21703.95,
                    21697.95,
                    21700.1,
                    21703.55,
                    21702.8,
                    21706.2,
                    21708.1,
                    21709.7,
                    21712.2,
                    21703.7,
                    21695.95,
                    21699.95,
                    21703.75,
                    21694.3,
                    21698.15,
                    21694.5,
                    21682.35,
                    21671.85,
                    21675.4,
                    21663.35,
                    21649,
                    21608.85,
                    21582.6,
                    21555.75,
                    21559.7,
                    21570.45,
                    21545.95,
                    21555.6,
                    21554.9,
                    21570.15,
                    21553,
                    21550.1,
                    21533.1,
                    21529.55,
                    21517.85,
                    21544.45,
                    21517.85,
                    21528.95,
                    21477.8,
                    21448.65,
                    21499.75,
                    21521.35,
                    21521.7,
                    21541.75,
                    21513.05,
                    21513.55,
                    21512,
                    21522.6,
                    21540.45,
                    21534.85,
                    21523.4,
                    21534.05,
                    21542.8,
                    21525.6,
                    21512.1,
                    21515.15,
                    21520.45,
                    21518,
                    21518.95,
                    21523.05,
                    21534.55,
                    21534.95,
                    21540.6,
                    21532.3,
                    21531.6,
                    21546.7,
                    21537.5,
                    21536.05,
                    21530.4,
                    21524.2,
                    21505.8,
                    21516.3,
                    21513.5,
                    21505.3,
                    21506.6,
                    21508.35,
                    21520.45,
                    21503.5,
                    21468.45,
                    21487.55,
                    21488.05,
                    21489,
                    21496.4,
                    21506.25,
                    21500.35,
                    21490.4,
                    21490.25
                  ],
                  "open": [
                    21683.3,
                    21684.5,
                    21687.55,
                    21699.25,
                    21698.55,
                    21696.8,
                    21706.3,
                    21693.7,
                    21700.3,
                    21695.15,
                    21686.25,
                    21691.6,
                    21703.95,
                    21704.8,
                    21705.4,
                    21702.65,
                    21705.45,
                    21704.9,
                    21708.5,
                    21710.9,
                    21714.95,
                    21714.4,
                    21718.4,
                    21707.25,
                    21699.95,
                    21710.75,
                    21705.9,
                    21701.6,
                    21702.3,
                    21696.35,
                    21691.5,
                    21678.75,
                    21687.25,
                    21663.75,
                    21656.6,
                    21608.2,
                    21604.85,
                    21561.4,
                    21592.75,
                    21588.95,
                    21556.5,
                    21566.1,
                    21578.65,
                    21576,
                    21563.75,
                    21560.95,
                    21543.2,
                    21532.05,
                    21545.45,
                    21533.5,
                    21554.1,
                    21531.7,
                    21475.45,
                    21529.45,
                    21523.9,
                    21559.25,
                    21548.25,
                    21549.7,
                    21539.35,
                    21517.7,
                    21523,
                    21542.7,
                    21567.65,
                    21534.85,
                    21535.3,
                    21550.75,
                    21555.8,
                    21529.25,
                    21516.7,
                    21530.4,
                    21525.95,
                    21527.3,
                    21526.6,
                    21542.65,
                    21536.3,
                    21546.95,
                    21542.3,
                    21534.3,
                    21550.3,
                    21549.85,
                    21541.2,
                    21543.6,
                    21536.75,
                    21524.25,
                    21521.85,
                    21522.1,
                    21514.8,
                    21517.05,
                    21515.4,
                    21524.3,
                    21528.95,
                    21504.05,
                    21497.95,
                    21504,
                    21498.25,
                    21500.8,
                    21509.55,
                    21510.55,
                    21503.15,
                    21498.15
                  ],
                  "type": "candlestick",
                  "x": [
                    100,
                    101,
                    102,
                    103,
                    104,
                    105,
                    106,
                    107,
                    108,
                    109,
                    110,
                    111,
                    112,
                    113,
                    114,
                    115,
                    116,
                    117,
                    118,
                    119,
                    120,
                    121,
                    122,
                    123,
                    124,
                    125,
                    126,
                    127,
                    128,
                    129,
                    130,
                    131,
                    132,
                    133,
                    134,
                    135,
                    136,
                    137,
                    138,
                    139,
                    140,
                    141,
                    142,
                    143,
                    144,
                    145,
                    146,
                    147,
                    148,
                    149,
                    150,
                    151,
                    152,
                    153,
                    154,
                    155,
                    156,
                    157,
                    158,
                    159,
                    160,
                    161,
                    162,
                    163,
                    164,
                    165,
                    166,
                    167,
                    168,
                    169,
                    170,
                    171,
                    172,
                    173,
                    174,
                    175,
                    176,
                    177,
                    178,
                    179,
                    180,
                    181,
                    182,
                    183,
                    184,
                    185,
                    186,
                    187,
                    188,
                    189,
                    190,
                    191,
                    192,
                    193,
                    194,
                    195,
                    196,
                    197,
                    198,
                    199
                  ]
                },
                {
                  "marker": {
                    "color": "MediumPurple",
                    "size": 5
                  },
                  "mode": "markers",
                  "name": "pivot",
                  "type": "scatter",
                  "x": [
                    100,
                    101,
                    102,
                    103,
                    104,
                    105,
                    106,
                    107,
                    108,
                    109,
                    110,
                    111,
                    112,
                    113,
                    114,
                    115,
                    116,
                    117,
                    118,
                    119,
                    120,
                    121,
                    122,
                    123,
                    124,
                    125,
                    126,
                    127,
                    128,
                    129,
                    130,
                    131,
                    132,
                    133,
                    134,
                    135,
                    136,
                    137,
                    138,
                    139,
                    140,
                    141,
                    142,
                    143,
                    144,
                    145,
                    146,
                    147,
                    148,
                    149,
                    150,
                    151,
                    152,
                    153,
                    154,
                    155,
                    156,
                    157,
                    158,
                    159,
                    160,
                    161,
                    162,
                    163,
                    164,
                    165,
                    166,
                    167,
                    168,
                    169,
                    170,
                    171,
                    172,
                    173,
                    174,
                    175,
                    176,
                    177,
                    178,
                    179,
                    180,
                    181,
                    182,
                    183,
                    184,
                    185,
                    186,
                    187,
                    188,
                    189,
                    190,
                    191,
                    192,
                    193,
                    194,
                    195,
                    196,
                    197,
                    198,
                    199
                  ],
                  "y": [
                    null,
                    null,
                    null,
                    null,
                    null,
                    21713.401,
                    null,
                    null,
                    null,
                    null,
                    21683.549,
                    null,
                    null,
                    null,
                    null,
                    21724.451,
                    null,
                    null,
                    null,
                    null,
                    null,
                    21720.701,
                    null,
                    null,
                    null,
                    null,
                    null,
                    null,
                    null,
                    null,
                    null,
                    null,
                    null,
                    null,
                    null,
                    null,
                    null,
                    null,
                    null,
                    21545.949,
                    null,
                    null,
                    null,
                    null,
                    null,
                    null,
                    null,
                    null,
                    null,
                    null,
                    null,
                    null,
                    21448.649,
                    null,
                    null,
                    21564.801,
                    null,
                    null,
                    null,
                    21511.999,
                    null,
                    21573.901,
                    null,
                    null,
                    null,
                    null,
                    null,
                    21512.099,
                    null,
                    null,
                    null,
                    null,
                    null,
                    null,
                    null,
                    null,
                    null,
                    null,
                    21559.251,
                    null,
                    null,
                    null,
                    null,
                    null,
                    null,
                    null,
                    null,
                    null,
                    null,
                    21532.451,
                    null,
                    21468.449,
                    null,
                    null,
                    null,
                    null,
                    null,
                    null,
                    null,
                    null
                  ]
                }
              ],
              "layout": {
                "template": {
                  "data": {
                    "bar": [
                      {
                        "error_x": {
                          "color": "#2a3f5f"
                        },
                        "error_y": {
                          "color": "#2a3f5f"
                        },
                        "marker": {
                          "line": {
                            "color": "#E5ECF6",
                            "width": 0.5
                          },
                          "pattern": {
                            "fillmode": "overlay",
                            "size": 10,
                            "solidity": 0.2
                          }
                        },
                        "type": "bar"
                      }
                    ],
                    "barpolar": [
                      {
                        "marker": {
                          "line": {
                            "color": "#E5ECF6",
                            "width": 0.5
                          },
                          "pattern": {
                            "fillmode": "overlay",
                            "size": 10,
                            "solidity": 0.2
                          }
                        },
                        "type": "barpolar"
                      }
                    ],
                    "carpet": [
                      {
                        "aaxis": {
                          "endlinecolor": "#2a3f5f",
                          "gridcolor": "white",
                          "linecolor": "white",
                          "minorgridcolor": "white",
                          "startlinecolor": "#2a3f5f"
                        },
                        "baxis": {
                          "endlinecolor": "#2a3f5f",
                          "gridcolor": "white",
                          "linecolor": "white",
                          "minorgridcolor": "white",
                          "startlinecolor": "#2a3f5f"
                        },
                        "type": "carpet"
                      }
                    ],
                    "choropleth": [
                      {
                        "colorbar": {
                          "outlinewidth": 0,
                          "ticks": ""
                        },
                        "type": "choropleth"
                      }
                    ],
                    "contour": [
                      {
                        "colorbar": {
                          "outlinewidth": 0,
                          "ticks": ""
                        },
                        "colorscale": [
                          [
                            0,
                            "#0d0887"
                          ],
                          [
                            0.1111111111111111,
                            "#46039f"
                          ],
                          [
                            0.2222222222222222,
                            "#7201a8"
                          ],
                          [
                            0.3333333333333333,
                            "#9c179e"
                          ],
                          [
                            0.4444444444444444,
                            "#bd3786"
                          ],
                          [
                            0.5555555555555556,
                            "#d8576b"
                          ],
                          [
                            0.6666666666666666,
                            "#ed7953"
                          ],
                          [
                            0.7777777777777778,
                            "#fb9f3a"
                          ],
                          [
                            0.8888888888888888,
                            "#fdca26"
                          ],
                          [
                            1,
                            "#f0f921"
                          ]
                        ],
                        "type": "contour"
                      }
                    ],
                    "contourcarpet": [
                      {
                        "colorbar": {
                          "outlinewidth": 0,
                          "ticks": ""
                        },
                        "type": "contourcarpet"
                      }
                    ],
                    "heatmap": [
                      {
                        "colorbar": {
                          "outlinewidth": 0,
                          "ticks": ""
                        },
                        "colorscale": [
                          [
                            0,
                            "#0d0887"
                          ],
                          [
                            0.1111111111111111,
                            "#46039f"
                          ],
                          [
                            0.2222222222222222,
                            "#7201a8"
                          ],
                          [
                            0.3333333333333333,
                            "#9c179e"
                          ],
                          [
                            0.4444444444444444,
                            "#bd3786"
                          ],
                          [
                            0.5555555555555556,
                            "#d8576b"
                          ],
                          [
                            0.6666666666666666,
                            "#ed7953"
                          ],
                          [
                            0.7777777777777778,
                            "#fb9f3a"
                          ],
                          [
                            0.8888888888888888,
                            "#fdca26"
                          ],
                          [
                            1,
                            "#f0f921"
                          ]
                        ],
                        "type": "heatmap"
                      }
                    ],
                    "heatmapgl": [
                      {
                        "colorbar": {
                          "outlinewidth": 0,
                          "ticks": ""
                        },
                        "colorscale": [
                          [
                            0,
                            "#0d0887"
                          ],
                          [
                            0.1111111111111111,
                            "#46039f"
                          ],
                          [
                            0.2222222222222222,
                            "#7201a8"
                          ],
                          [
                            0.3333333333333333,
                            "#9c179e"
                          ],
                          [
                            0.4444444444444444,
                            "#bd3786"
                          ],
                          [
                            0.5555555555555556,
                            "#d8576b"
                          ],
                          [
                            0.6666666666666666,
                            "#ed7953"
                          ],
                          [
                            0.7777777777777778,
                            "#fb9f3a"
                          ],
                          [
                            0.8888888888888888,
                            "#fdca26"
                          ],
                          [
                            1,
                            "#f0f921"
                          ]
                        ],
                        "type": "heatmapgl"
                      }
                    ],
                    "histogram": [
                      {
                        "marker": {
                          "pattern": {
                            "fillmode": "overlay",
                            "size": 10,
                            "solidity": 0.2
                          }
                        },
                        "type": "histogram"
                      }
                    ],
                    "histogram2d": [
                      {
                        "colorbar": {
                          "outlinewidth": 0,
                          "ticks": ""
                        },
                        "colorscale": [
                          [
                            0,
                            "#0d0887"
                          ],
                          [
                            0.1111111111111111,
                            "#46039f"
                          ],
                          [
                            0.2222222222222222,
                            "#7201a8"
                          ],
                          [
                            0.3333333333333333,
                            "#9c179e"
                          ],
                          [
                            0.4444444444444444,
                            "#bd3786"
                          ],
                          [
                            0.5555555555555556,
                            "#d8576b"
                          ],
                          [
                            0.6666666666666666,
                            "#ed7953"
                          ],
                          [
                            0.7777777777777778,
                            "#fb9f3a"
                          ],
                          [
                            0.8888888888888888,
                            "#fdca26"
                          ],
                          [
                            1,
                            "#f0f921"
                          ]
                        ],
                        "type": "histogram2d"
                      }
                    ],
                    "histogram2dcontour": [
                      {
                        "colorbar": {
                          "outlinewidth": 0,
                          "ticks": ""
                        },
                        "colorscale": [
                          [
                            0,
                            "#0d0887"
                          ],
                          [
                            0.1111111111111111,
                            "#46039f"
                          ],
                          [
                            0.2222222222222222,
                            "#7201a8"
                          ],
                          [
                            0.3333333333333333,
                            "#9c179e"
                          ],
                          [
                            0.4444444444444444,
                            "#bd3786"
                          ],
                          [
                            0.5555555555555556,
                            "#d8576b"
                          ],
                          [
                            0.6666666666666666,
                            "#ed7953"
                          ],
                          [
                            0.7777777777777778,
                            "#fb9f3a"
                          ],
                          [
                            0.8888888888888888,
                            "#fdca26"
                          ],
                          [
                            1,
                            "#f0f921"
                          ]
                        ],
                        "type": "histogram2dcontour"
                      }
                    ],
                    "mesh3d": [
                      {
                        "colorbar": {
                          "outlinewidth": 0,
                          "ticks": ""
                        },
                        "type": "mesh3d"
                      }
                    ],
                    "parcoords": [
                      {
                        "line": {
                          "colorbar": {
                            "outlinewidth": 0,
                            "ticks": ""
                          }
                        },
                        "type": "parcoords"
                      }
                    ],
                    "pie": [
                      {
                        "automargin": true,
                        "type": "pie"
                      }
                    ],
                    "scatter": [
                      {
                        "fillpattern": {
                          "fillmode": "overlay",
                          "size": 10,
                          "solidity": 0.2
                        },
                        "type": "scatter"
                      }
                    ],
                    "scatter3d": [
                      {
                        "line": {
                          "colorbar": {
                            "outlinewidth": 0,
                            "ticks": ""
                          }
                        },
                        "marker": {
                          "colorbar": {
                            "outlinewidth": 0,
                            "ticks": ""
                          }
                        },
                        "type": "scatter3d"
                      }
                    ],
                    "scattercarpet": [
                      {
                        "marker": {
                          "colorbar": {
                            "outlinewidth": 0,
                            "ticks": ""
                          }
                        },
                        "type": "scattercarpet"
                      }
                    ],
                    "scattergeo": [
                      {
                        "marker": {
                          "colorbar": {
                            "outlinewidth": 0,
                            "ticks": ""
                          }
                        },
                        "type": "scattergeo"
                      }
                    ],
                    "scattergl": [
                      {
                        "marker": {
                          "colorbar": {
                            "outlinewidth": 0,
                            "ticks": ""
                          }
                        },
                        "type": "scattergl"
                      }
                    ],
                    "scattermapbox": [
                      {
                        "marker": {
                          "colorbar": {
                            "outlinewidth": 0,
                            "ticks": ""
                          }
                        },
                        "type": "scattermapbox"
                      }
                    ],
                    "scatterpolar": [
                      {
                        "marker": {
                          "colorbar": {
                            "outlinewidth": 0,
                            "ticks": ""
                          }
                        },
                        "type": "scatterpolar"
                      }
                    ],
                    "scatterpolargl": [
                      {
                        "marker": {
                          "colorbar": {
                            "outlinewidth": 0,
                            "ticks": ""
                          }
                        },
                        "type": "scatterpolargl"
                      }
                    ],
                    "scatterternary": [
                      {
                        "marker": {
                          "colorbar": {
                            "outlinewidth": 0,
                            "ticks": ""
                          }
                        },
                        "type": "scatterternary"
                      }
                    ],
                    "surface": [
                      {
                        "colorbar": {
                          "outlinewidth": 0,
                          "ticks": ""
                        },
                        "colorscale": [
                          [
                            0,
                            "#0d0887"
                          ],
                          [
                            0.1111111111111111,
                            "#46039f"
                          ],
                          [
                            0.2222222222222222,
                            "#7201a8"
                          ],
                          [
                            0.3333333333333333,
                            "#9c179e"
                          ],
                          [
                            0.4444444444444444,
                            "#bd3786"
                          ],
                          [
                            0.5555555555555556,
                            "#d8576b"
                          ],
                          [
                            0.6666666666666666,
                            "#ed7953"
                          ],
                          [
                            0.7777777777777778,
                            "#fb9f3a"
                          ],
                          [
                            0.8888888888888888,
                            "#fdca26"
                          ],
                          [
                            1,
                            "#f0f921"
                          ]
                        ],
                        "type": "surface"
                      }
                    ],
                    "table": [
                      {
                        "cells": {
                          "fill": {
                            "color": "#EBF0F8"
                          },
                          "line": {
                            "color": "white"
                          }
                        },
                        "header": {
                          "fill": {
                            "color": "#C8D4E3"
                          },
                          "line": {
                            "color": "white"
                          }
                        },
                        "type": "table"
                      }
                    ]
                  },
                  "layout": {
                    "annotationdefaults": {
                      "arrowcolor": "#2a3f5f",
                      "arrowhead": 0,
                      "arrowwidth": 1
                    },
                    "autotypenumbers": "strict",
                    "coloraxis": {
                      "colorbar": {
                        "outlinewidth": 0,
                        "ticks": ""
                      }
                    },
                    "colorscale": {
                      "diverging": [
                        [
                          0,
                          "#8e0152"
                        ],
                        [
                          0.1,
                          "#c51b7d"
                        ],
                        [
                          0.2,
                          "#de77ae"
                        ],
                        [
                          0.3,
                          "#f1b6da"
                        ],
                        [
                          0.4,
                          "#fde0ef"
                        ],
                        [
                          0.5,
                          "#f7f7f7"
                        ],
                        [
                          0.6,
                          "#e6f5d0"
                        ],
                        [
                          0.7,
                          "#b8e186"
                        ],
                        [
                          0.8,
                          "#7fbc41"
                        ],
                        [
                          0.9,
                          "#4d9221"
                        ],
                        [
                          1,
                          "#276419"
                        ]
                      ],
                      "sequential": [
                        [
                          0,
                          "#0d0887"
                        ],
                        [
                          0.1111111111111111,
                          "#46039f"
                        ],
                        [
                          0.2222222222222222,
                          "#7201a8"
                        ],
                        [
                          0.3333333333333333,
                          "#9c179e"
                        ],
                        [
                          0.4444444444444444,
                          "#bd3786"
                        ],
                        [
                          0.5555555555555556,
                          "#d8576b"
                        ],
                        [
                          0.6666666666666666,
                          "#ed7953"
                        ],
                        [
                          0.7777777777777778,
                          "#fb9f3a"
                        ],
                        [
                          0.8888888888888888,
                          "#fdca26"
                        ],
                        [
                          1,
                          "#f0f921"
                        ]
                      ],
                      "sequentialminus": [
                        [
                          0,
                          "#0d0887"
                        ],
                        [
                          0.1111111111111111,
                          "#46039f"
                        ],
                        [
                          0.2222222222222222,
                          "#7201a8"
                        ],
                        [
                          0.3333333333333333,
                          "#9c179e"
                        ],
                        [
                          0.4444444444444444,
                          "#bd3786"
                        ],
                        [
                          0.5555555555555556,
                          "#d8576b"
                        ],
                        [
                          0.6666666666666666,
                          "#ed7953"
                        ],
                        [
                          0.7777777777777778,
                          "#fb9f3a"
                        ],
                        [
                          0.8888888888888888,
                          "#fdca26"
                        ],
                        [
                          1,
                          "#f0f921"
                        ]
                      ]
                    },
                    "colorway": [
                      "#636efa",
                      "#EF553B",
                      "#00cc96",
                      "#ab63fa",
                      "#FFA15A",
                      "#19d3f3",
                      "#FF6692",
                      "#B6E880",
                      "#FF97FF",
                      "#FECB52"
                    ],
                    "font": {
                      "color": "#2a3f5f"
                    },
                    "geo": {
                      "bgcolor": "white",
                      "lakecolor": "white",
                      "landcolor": "#E5ECF6",
                      "showlakes": true,
                      "showland": true,
                      "subunitcolor": "white"
                    },
                    "hoverlabel": {
                      "align": "left"
                    },
                    "hovermode": "closest",
                    "mapbox": {
                      "style": "light"
                    },
                    "paper_bgcolor": "white",
                    "plot_bgcolor": "#E5ECF6",
                    "polar": {
                      "angularaxis": {
                        "gridcolor": "white",
                        "linecolor": "white",
                        "ticks": ""
                      },
                      "bgcolor": "#E5ECF6",
                      "radialaxis": {
                        "gridcolor": "white",
                        "linecolor": "white",
                        "ticks": ""
                      }
                    },
                    "scene": {
                      "xaxis": {
                        "backgroundcolor": "#E5ECF6",
                        "gridcolor": "white",
                        "gridwidth": 2,
                        "linecolor": "white",
                        "showbackground": true,
                        "ticks": "",
                        "zerolinecolor": "white"
                      },
                      "yaxis": {
                        "backgroundcolor": "#E5ECF6",
                        "gridcolor": "white",
                        "gridwidth": 2,
                        "linecolor": "white",
                        "showbackground": true,
                        "ticks": "",
                        "zerolinecolor": "white"
                      },
                      "zaxis": {
                        "backgroundcolor": "#E5ECF6",
                        "gridcolor": "white",
                        "gridwidth": 2,
                        "linecolor": "white",
                        "showbackground": true,
                        "ticks": "",
                        "zerolinecolor": "white"
                      }
                    },
                    "shapedefaults": {
                      "line": {
                        "color": "#2a3f5f"
                      }
                    },
                    "ternary": {
                      "aaxis": {
                        "gridcolor": "white",
                        "linecolor": "white",
                        "ticks": ""
                      },
                      "baxis": {
                        "gridcolor": "white",
                        "linecolor": "white",
                        "ticks": ""
                      },
                      "bgcolor": "#E5ECF6",
                      "caxis": {
                        "gridcolor": "white",
                        "linecolor": "white",
                        "ticks": ""
                      }
                    },
                    "title": {
                      "x": 0.05
                    },
                    "xaxis": {
                      "automargin": true,
                      "gridcolor": "white",
                      "linecolor": "white",
                      "ticks": "",
                      "title": {
                        "standoff": 15
                      },
                      "zerolinecolor": "white",
                      "zerolinewidth": 2
                    },
                    "yaxis": {
                      "automargin": true,
                      "gridcolor": "white",
                      "linecolor": "white",
                      "ticks": "",
                      "title": {
                        "standoff": 15
                      },
                      "zerolinecolor": "white",
                      "zerolinewidth": 2
                    }
                  }
                },
                "xaxis": {
                  "rangeslider": {
                    "visible": false
                  }
                }
              }
            }
          },
          "metadata": {},
          "output_type": "display_data"
        }
      ],
      "source": [
        "dfpl = df[100:200]\n",
        "fig = go.Figure(data=[go.Candlestick(x=dfpl.index,\n",
        "                open=dfpl['open'],\n",
        "                high=dfpl['high'],\n",
        "                low=dfpl['low'],\n",
        "                close=dfpl['close'])])\n",
        "\n",
        "fig.add_scatter(x=dfpl.index, y=dfpl['pointpos'], mode=\"markers\",\n",
        "                marker=dict(size=5, color=\"MediumPurple\"),\n",
        "                name=\"pivot\")\n",
        "fig.update_layout(xaxis_rangeslider_visible=False)\n",
        "fig.show()"
      ]
    },
    {
      "cell_type": "code",
      "execution_count": 7,
      "metadata": {
        "id": "cq07fCAALiEE"
      },
      "outputs": [],
      "source": [
        "def detect_structure(candle, backcandles, window):\n",
        "    \"\"\"\n",
        "    Attention! window should always be greater than the pivot window! to avoid look ahead bias\n",
        "    \"\"\"\n",
        "    if (candle <= (backcandles+window)) or (candle+window+1 >= len(df)):\n",
        "        return 0\n",
        "\n",
        "    localdf = df.iloc[candle-backcandles-window:candle-window] \n",
        "    highs = localdf[localdf['isPivot'] == 1].high.tail(3).values\n",
        "    lows = localdf[localdf['isPivot'] == 2].low.tail(3).values\n",
        "    levelbreak = 0\n",
        "    zone_width = 0.001\n",
        "    if len(lows)==3:\n",
        "        support_condition = True\n",
        "        mean_low = lows.mean()\n",
        "        for low in lows:\n",
        "            if abs(low-mean_low)>zone_width:\n",
        "                support_condition = False\n",
        "                break\n",
        "        if support_condition and (mean_low - df.loc[candle].close)>zone_width*2:\n",
        "            levelbreak = 1\n",
        "\n",
        "    if len(highs)==3:\n",
        "        resistance_condition = True\n",
        "        mean_high = highs.mean()\n",
        "        for high in highs:\n",
        "            if abs(high-mean_high)>zone_width:\n",
        "                resistance_condition = False\n",
        "                break\n",
        "        if resistance_condition and (df.loc[candle].close-mean_high)>zone_width*2:\n",
        "            levelbreak = 2\n",
        "    return levelbreak"
      ]
    },
    {
      "cell_type": "code",
      "execution_count": 8,
      "metadata": {
        "id": "BY3NEGa8LiEF"
      },
      "outputs": [],
      "source": [
        "# df['pattern_detected'] = df.index.map(lambda x: detect_structure(x, backcandles=40, window=15))\n",
        "df['pattern_detected'] = df.apply(lambda row: detect_structure(row.name, backcandles=60, window=11), axis=1)"
      ]
    },
    {
      "cell_type": "code",
      "execution_count": 9,
      "metadata": {
        "id": "kzFeUfRTLiEF",
        "outputId": "459cc1d8-958e-4c67-f3b6-54311b5a7b1a"
      },
      "outputs": [
        {
          "data": {
            "text/html": [
              "<div>\n",
              "<style scoped>\n",
              "    .dataframe tbody tr th:only-of-type {\n",
              "        vertical-align: middle;\n",
              "    }\n",
              "\n",
              "    .dataframe tbody tr th {\n",
              "        vertical-align: top;\n",
              "    }\n",
              "\n",
              "    .dataframe thead th {\n",
              "        text-align: right;\n",
              "    }\n",
              "</style>\n",
              "<table border=\"1\" class=\"dataframe\">\n",
              "  <thead>\n",
              "    <tr style=\"text-align: right;\">\n",
              "      <th></th>\n",
              "      <th>datetime</th>\n",
              "      <th>symbol</th>\n",
              "      <th>open</th>\n",
              "      <th>high</th>\n",
              "      <th>low</th>\n",
              "      <th>close</th>\n",
              "      <th>volume</th>\n",
              "      <th>EMA</th>\n",
              "      <th>EMASignal</th>\n",
              "      <th>isPivot</th>\n",
              "      <th>pointpos</th>\n",
              "      <th>pattern_detected</th>\n",
              "    </tr>\n",
              "  </thead>\n",
              "  <tbody>\n",
              "  </tbody>\n",
              "</table>\n",
              "</div>"
            ],
            "text/plain": [
              "Empty DataFrame\n",
              "Columns: [datetime, symbol, open, high, low, close, volume, EMA, EMASignal, isPivot, pointpos, pattern_detected]\n",
              "Index: []"
            ]
          },
          "execution_count": 9,
          "metadata": {},
          "output_type": "execute_result"
        }
      ],
      "source": [
        "df[df['pattern_detected']!=0]"
      ]
    },
    {
      "cell_type": "code",
      "execution_count": null,
      "metadata": {
        "id": "b3ObSOtdLiEF"
      },
      "outputs": [],
      "source": []
    }
  ],
  "metadata": {
    "colab": {
      "provenance": []
    },
    "kernelspec": {
      "display_name": "Python 3 (ipykernel)",
      "language": "python",
      "name": "python3"
    },
    "language_info": {
      "codemirror_mode": {
        "name": "ipython",
        "version": 3
      },
      "file_extension": ".py",
      "mimetype": "text/x-python",
      "name": "python",
      "nbconvert_exporter": "python",
      "pygments_lexer": "ipython3",
      "version": "3.10.0"
    }
  },
  "nbformat": 4,
  "nbformat_minor": 0
}
